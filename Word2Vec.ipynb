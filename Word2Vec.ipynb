{
 "cells": [
  {
   "cell_type": "code",
   "execution_count": 1,
   "id": "0ecfd9c5-ef2c-47dd-8a01-b1ea7d230d08",
   "metadata": {},
   "outputs": [],
   "source": [
    "import spacy\n",
    "\n",
    "# word vectors occupy lot of space. hence en_core_web_sm model do not have them included. \n",
    "# In order to download\n",
    "# word vectors you need to install large or medium english model. We will install the large one!\n",
    "# make sure you have run \"python -m spacy download en_core_web_lg\" to install large english model\n",
    "nlp = spacy.load(\"en_core_web_lg\")"
   ]
  },
  {
   "cell_type": "code",
   "execution_count": 2,
   "id": "61240e6d-a630-4cd4-abf8-f42f2139ab6f",
   "metadata": {},
   "outputs": [],
   "source": [
    "doc = nlp(\"dog cat banana kem\")"
   ]
  },
  {
   "cell_type": "code",
   "execution_count": 3,
   "id": "903fd581-9bbd-4d49-bb93-5cbb998193cc",
   "metadata": {},
   "outputs": [
    {
     "name": "stdout",
     "output_type": "stream",
     "text": [
      "dog Vector: True OOV: False\n",
      "cat Vector: True OOV: False\n",
      "banana Vector: True OOV: False\n",
      "kem Vector: False OOV: True\n"
     ]
    }
   ],
   "source": [
    "for token in doc:\n",
    "    print(token.text, \"Vector:\", token.has_vector, \"OOV:\", token.is_oov)"
   ]
  },
  {
   "cell_type": "code",
   "execution_count": 4,
   "id": "30db9ca6-e61d-4888-971f-c977070620ea",
   "metadata": {},
   "outputs": [
    {
     "data": {
      "text/plain": [
       "(300,)"
      ]
     },
     "execution_count": 4,
     "metadata": {},
     "output_type": "execute_result"
    }
   ],
   "source": [
    "doc[0].vector.shape"
   ]
  },
  {
   "cell_type": "code",
   "execution_count": 5,
   "id": "05f966ac-e2f8-4828-9c61-0bc7c6698247",
   "metadata": {},
   "outputs": [
    {
     "data": {
      "text/plain": [
       "(300,)"
      ]
     },
     "execution_count": 5,
     "metadata": {},
     "output_type": "execute_result"
    }
   ],
   "source": [
    "base_token = nlp(\"bread\")\n",
    "base_token.vector.shape"
   ]
  },
  {
   "cell_type": "code",
   "execution_count": 6,
   "id": "7396af91-ae24-4b1d-9bfe-f040c88ca9c4",
   "metadata": {},
   "outputs": [
    {
     "name": "stdout",
     "output_type": "stream",
     "text": [
      "bread <-> bread: 0.9999999744752309\n",
      "sandwich <-> bread: 0.6341067010130894\n",
      "burger <-> bread: 0.47520687769584247\n",
      "car <-> bread: 0.06451532596945217\n",
      "tiger <-> bread: 0.04764611272488976\n",
      "human <-> bread: 0.2151154210812192\n",
      "wheat <-> bread: 0.615036141030184\n"
     ]
    }
   ],
   "source": [
    "doc = nlp(\"bread sandwich burger car tiger human wheat\")\n",
    "\n",
    "for token in doc:\n",
    "    print(f\"{token.text} <-> {base_token.text}:\", token.similarity(base_token))"
   ]
  },
  {
   "cell_type": "code",
   "execution_count": 7,
   "id": "61a3cee2-16b1-4235-a5a9-e7184679e0d1",
   "metadata": {},
   "outputs": [],
   "source": [
    "def print_similarity(base_word, words_to_compare):\n",
    "    base_token = nlp(base_word)\n",
    "    doc = nlp(words_to_compare)\n",
    "    for token in doc:\n",
    "        print(f\"{token.text} <-> {base_token.text}: \", token.similarity(base_token))"
   ]
  },
  {
   "cell_type": "code",
   "execution_count": 8,
   "id": "e492f5db-dd8d-4cc7-8bec-97f9bc83de4a",
   "metadata": {},
   "outputs": [
    {
     "name": "stdout",
     "output_type": "stream",
     "text": [
      "apple <-> iphone:  0.4387907748060368\n",
      "samsung <-> iphone:  0.6708590303423401\n",
      "iphone <-> iphone:  0.9999999983096304\n",
      "dog <-> iphone:  0.08211864228011527\n",
      "kitten <-> iphone:  0.10222317834969896\n"
     ]
    }
   ],
   "source": [
    "print_similarity(\"iphone\", \"apple samsung iphone dog kitten\")"
   ]
  },
  {
   "cell_type": "code",
   "execution_count": 11,
   "id": "fe08e378-dcdc-4104-beb8-b6f99a08982f",
   "metadata": {},
   "outputs": [],
   "source": [
    "king = nlp.vocab[\"king\"].vector\n",
    "man = nlp.vocab[\"man\"].vector\n",
    "woman = nlp.vocab[\"woman\"].vector\n",
    "queen = nlp.vocab[\"queen\"].vector\n",
    "\n",
    "result = king - man + woman"
   ]
  },
  {
   "cell_type": "code",
   "execution_count": 10,
   "id": "3b50f27c-3d0f-4f7c-a61d-1618ad0533f2",
   "metadata": {},
   "outputs": [
    {
     "data": {
      "text/plain": [
       "array([[0.6178014]], dtype=float32)"
      ]
     },
     "execution_count": 10,
     "metadata": {},
     "output_type": "execute_result"
    }
   ],
   "source": [
    "from sklearn.metrics.pairwise import cosine_similarity\n",
    "\n",
    "cosine_similarity([result], [queen])"
   ]
  },
  {
   "cell_type": "code",
   "execution_count": null,
   "id": "c3dcbde4-a84f-4450-a475-6f3571037578",
   "metadata": {},
   "outputs": [],
   "source": []
  }
 ],
 "metadata": {
  "kernelspec": {
   "display_name": "Python 3 (ipykernel)",
   "language": "python",
   "name": "python3"
  },
  "language_info": {
   "codemirror_mode": {
    "name": "ipython",
    "version": 3
   },
   "file_extension": ".py",
   "mimetype": "text/x-python",
   "name": "python",
   "nbconvert_exporter": "python",
   "pygments_lexer": "ipython3",
   "version": "3.11.7"
  }
 },
 "nbformat": 4,
 "nbformat_minor": 5
}
